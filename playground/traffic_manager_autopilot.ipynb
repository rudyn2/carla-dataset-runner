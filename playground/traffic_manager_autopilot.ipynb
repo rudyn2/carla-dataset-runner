{
 "cells": [
  {
   "cell_type": "code",
   "execution_count": 1,
   "id": "b28c7d06",
   "metadata": {},
   "outputs": [
    {
     "name": "stdout",
     "output_type": "stream",
     "text": [
      "Added: /home/rudy/Documents/carla-dataset-runner/playground/PythonAPI/carla to the Path\n",
      "Added: /home/rudy/Documents/PythonAPI/carla/dist/carla-0.9.11-py3.7-linux-x86_64.egg to the Path\n"
     ]
    }
   ],
   "source": [
    "import os\n",
    "import sys\n",
    "initial_path = set(sys.path)\n",
    "CARLA_EGG_PATH = \"/home/rudy/Documents/PythonAPI/carla/dist/carla-0.9.11-py3.7-linux-x86_64.egg\"\n",
    "sys.path.append(CARLA_EGG_PATH)\n",
    "\n",
    "# ADD \n",
    "try:\n",
    "    sys.path.append(os.path.abspath('.') + '/PythonAPI/carla')\n",
    "except IndexError:\n",
    "    pass\n",
    "\n",
    "new_paths = set(sys.path) - initial_path\n",
    "for path in new_paths:\n",
    "    print(f\"Added: {path} to the Path\")\n"
   ]
  },
  {
   "cell_type": "code",
   "execution_count": 2,
   "id": "bb6a2559",
   "metadata": {},
   "outputs": [],
   "source": [
    "import carla \n",
    "import os \n",
    "import random\n",
    "import numpy as np\n"
   ]
  },
  {
   "cell_type": "code",
   "execution_count": 3,
   "id": "73fdfcb1",
   "metadata": {},
   "outputs": [],
   "source": [
    "try:\n",
    "    import queue\n",
    "except ImportError:\n",
    "    import Queue as queue\n",
    "\n",
    "\n",
    "class CarlaSyncMode(object):\n",
    "    \"\"\"\n",
    "    Context manager to synchronize output from different sensors. Synchronous\n",
    "    mode is enabled as long as we are inside this context\n",
    "\n",
    "        with CarlaSyncMode(world, sensors) as sync_mode:\n",
    "            while True:\n",
    "                data = sync_mode.tick(timeout=1.0)\n",
    "\n",
    "    \"\"\"\n",
    "\n",
    "    def __init__(self, world, *sensors, **kwargs):\n",
    "        self.world = world\n",
    "        self.sensors = sensors\n",
    "        self.frame = None\n",
    "        self.delta_seconds = 1.0 / kwargs.get('fps', 20)\n",
    "        self._queues = []\n",
    "        self._settings = None\n",
    "\n",
    "    def __enter__(self):\n",
    "        self._settings = self.world.get_settings()\n",
    "        self.frame = self.world.apply_settings(carla.WorldSettings(\n",
    "            no_rendering_mode=False,\n",
    "            synchronous_mode=True,\n",
    "            fixed_delta_seconds=self.delta_seconds))\n",
    "\n",
    "        def make_queue(register_event):\n",
    "            q = queue.Queue()\n",
    "            register_event(q.put)\n",
    "            self._queues.append(q)\n",
    "\n",
    "        make_queue(self.world.on_tick)\n",
    "        for sensor in self.sensors:\n",
    "            make_queue(sensor.listen)\n",
    "        return self\n",
    "\n",
    "    def tick(self, timeout):\n",
    "        self.frame = self.world.tick()\n",
    "        data = [self._retrieve_data(q, timeout) for q in self._queues]\n",
    "        assert all(x.frame == self.frame for x in data)\n",
    "        return data\n",
    "\n",
    "    def __exit__(self, *args, **kwargs):\n",
    "        self.world.apply_settings(self._settings)\n",
    "\n",
    "    def _retrieve_data(self, sensor_queue, timeout):\n",
    "        while True:\n",
    "            data = sensor_queue.get(timeout=timeout)\n",
    "            if data.frame == self.frame:\n",
    "                return data\n",
    "\n",
    "    def tick_no_data(self):\n",
    "        self.frame = self.world.tick()"
   ]
  },
  {
   "cell_type": "code",
   "execution_count": 4,
   "id": "6d8da64a",
   "metadata": {},
   "outputs": [],
   "source": [
    "\n",
    "client = carla.Client('127.0.0.1', 2000) \n",
    "client.set_timeout(30.0) \n",
    "world = client.load_world('Town02') \n",
    "settings = world.get_settings() \n",
    "settings.fixed_delta_seconds = 0.1 \n",
    "settings.synchronous_mode = True \n",
    "world.apply_settings(settings) \n",
    "blueprint_library = world.get_blueprint_library() \n",
    "traffic_manager = client.get_trafficmanager(8000) \n",
    "traffic_manager.set_hybrid_physics_mode(True)\n",
    "vehicle_list = [] \n"
   ]
  },
  {
   "cell_type": "code",
   "execution_count": 12,
   "id": "8672dcad",
   "metadata": {},
   "outputs": [
    {
     "name": "stdout",
     "output_type": "stream",
     "text": [
      "Vehicle spawned!\n"
     ]
    }
   ],
   "source": [
    "transform = random.choice(world.get_map().get_spawn_points()) \n",
    "vehicle = world.try_spawn_actor(random.choice(blueprint_library.filter(\"vehicle.*\")) , transform) \n",
    "print(\"Vehicle spawned!\")\n",
    "\n",
    "vehicle_list.append(vehicle) \n",
    "vehicle.set_autopilot(True, traffic_manager.get_port()) "
   ]
  },
  {
   "cell_type": "code",
   "execution_count": 15,
   "id": "b6072000",
   "metadata": {},
   "outputs": [
    {
     "name": "stdout",
     "output_type": "stream",
     "text": [
      "Camera added successfully!\n"
     ]
    }
   ],
   "source": [
    "sensor_width = 800\n",
    "sensor_height = 600\n",
    "fov = 110\n",
    "bp = blueprint_library.find('sensor.camera.rgb')\n",
    "# bp.set_attribute('enable_postprocess_effects', 'True')  # https://carla.readthedocs.io/en/latest/bp_library/\n",
    "bp.set_attribute('image_size_x', f'{sensor_width}')\n",
    "bp.set_attribute('image_size_y', f'{sensor_height}')\n",
    "bp.set_attribute('fov', f'{fov}')\n",
    "\n",
    "# Adjust sensor relative position to the vehicle\n",
    "spawn_point = carla.Transform(carla.Location(x=1.0, z=2.0))\n",
    "rgb_camera = world.spawn_actor(bp, spawn_point, attach_to=vehicle)\n",
    "rgb_camera.blur_amount = 0.0\n",
    "rgb_camera.motion_blur_intensity = 0\n",
    "rgb_camera.motion_max_distortion = 0\n",
    "\n",
    "# Camera calibration\n",
    "calibration = np.identity(3)\n",
    "calibration[0, 2] = sensor_width / 2.0\n",
    "calibration[1, 2] = sensor_height / 2.0\n",
    "calibration[0, 0] = calibration[1, 1] = sensor_width / (2.0 * np.tan(fov * np.pi / 360.0))\n",
    "rgb_camera.calibration = calibration  # Parameter K of the camera\n",
    "print(\"Camera added successfully!\")"
   ]
  },
  {
   "cell_type": "code",
   "execution_count": 17,
   "id": "1f53e9cd",
   "metadata": {
    "tags": []
   },
   "outputs": [
    {
     "name": "stdout",
     "output_type": "stream",
     "text": [
      "[1617727199] Location: (181.80, 187.92, 0.21)"
     ]
    },
    {
     "ename": "KeyboardInterrupt",
     "evalue": "",
     "output_type": "error",
     "traceback": [
      "\u001b[0;31m---------------------------------------------------------------------------\u001b[0m\n\u001b[0;31mKeyboardInterrupt\u001b[0m                         Traceback (most recent call last)",
      "File \u001b[0;34m/home/rudy/miniconda3/envs/carla-data-collector/lib/python3.7/site-packages/IPython/core/interactiveshell.py\u001b[0m, in \u001b[0;32mrun_code\u001b[0m:\nLine \u001b[0;34m3437\u001b[0m:  exec(code_obj, \u001b[36mself\u001b[39;49;00m.user_global_ns, \u001b[36mself\u001b[39;49;00m.user_ns)\n",
      "In  \u001b[0;34m[17]\u001b[0m:\nLine \u001b[0;34m22\u001b[0m:    time.sleep(\u001b[34m0.5\u001b[39;49;00m)\n",
      "\u001b[0;31mKeyboardInterrupt\u001b[0m: \n\u001b[0;31m---------------------------------------------------------------------------\u001b[0m"
     ]
    }
   ],
   "source": [
    "import cv2\n",
    "import time\n",
    "\n",
    "for _ in range(200): \n",
    "    world.tick(2.0) \n",
    "    location = vehicle.get_location() \n",
    "    # velocity = vehicle.get_velocity() \n",
    "    # control = vehicle.get_control() \n",
    "\n",
    "    # img = np.array(rgb_data.raw_data)\n",
    "    #img = img.reshape((sensor_height, sensor_width, 4))\n",
    "    #img = img[:, :, :3]  # taking out opacity channel\n",
    "    #cv2.imshow('rgb', img)\n",
    "    #cv2.waitKey(10)\n",
    "\n",
    "\n",
    "\n",
    "    sys.stdout.write(\"\\r\")\n",
    "    sys.stdout.write(f\"[{time.time():.0f}] Location: ({location.x:.2f}, {location.y:.2f}, {location.z:.2f})\")\n",
    "    sys.stdout.flush()"
   ]
  },
  {
   "cell_type": "code",
   "execution_count": null,
   "id": "eda2d777",
   "metadata": {},
   "outputs": [],
   "source": [
    "for actor in vehicle_list: \n",
    "    actor.destroy() "
   ]
  }
 ],
 "metadata": {
  "kernelspec": {
   "display_name": "Python 3.7 (XPython)",
   "language": "python",
   "name": "xpython"
  },
  "language_info": {
   "file_extension": ".py",
   "mimetype": "text/x-python",
   "name": "python",
   "version": "3.7.10"
  }
 },
 "nbformat": 4,
 "nbformat_minor": 5
}
