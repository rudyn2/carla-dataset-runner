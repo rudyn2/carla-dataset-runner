{
 "cells": [
  {
   "cell_type": "code",
   "execution_count": 2,
   "id": "db27012a",
   "metadata": {},
   "outputs": [
    {
     "name": "stdout",
     "output_type": "stream",
     "text": [
      "Added: /home/rudy/Documents/PythonAPI/carla/dist/carla-0.9.11-py3.7-linux-x86_64.egg to the Path\n",
      "Added: /home/rudy/Documents/carla-dataset-runner/PythonAPI/carla to the Path\n"
     ]
    }
   ],
   "source": [
    "import os\n",
    "import sys\n",
    "initial_path = set(sys.path)\n",
    "CARLA_EGG_PATH = \"/home/rudy/Documents/PythonAPI/carla/dist/carla-0.9.11-py3.7-linux-x86_64.egg\"\n",
    "sys.path.append(CARLA_EGG_PATH)\n",
    "\n",
    "# ADD \n",
    "try:\n",
    "    sys.path.append('/home/rudy/Documents/carla-dataset-runner/PythonAPI/carla')\n",
    "except IndexError:\n",
    "    pass\n",
    "\n",
    "new_paths = set(sys.path) - initial_path\n",
    "for path in new_paths:\n",
    "    print(f\"Added: {path} to the Path\")\n"
   ]
  },
  {
   "cell_type": "code",
   "execution_count": 3,
   "id": "8082e24d",
   "metadata": {},
   "outputs": [],
   "source": [
    "import carla\n",
    "import random\n",
    "import time\n",
    "from agents.navigation.behavior_agent import BehaviorAgent\n",
    "from agents.navigation.global_route_planner import GlobalRoutePlanner\n",
    "from agents.navigation.global_route_planner_dao import GlobalRoutePlannerDAO\n",
    "import xml.etree.ElementTree as ET\n",
    "import math\n",
    "import logging"
   ]
  },
  {
   "cell_type": "code",
   "execution_count": 5,
   "id": "906c8f0f",
   "metadata": {},
   "outputs": [],
   "source": [
    "client = carla.Client('localhost', 2000)\n",
    "client.set_timeout(20.0)\n",
    "client.load_world('Town02')\n",
    "world = client.get_world()\n",
    "map_ = world.get_map()\n",
    "blueprint_library = world.get_blueprint_library()\n",
    "vehicle_bp = random.choice(blueprint_library.filter('vehicle.bmw.grandtourer'))"
   ]
  },
  {
   "cell_type": "code",
   "execution_count": 6,
   "id": "5c0cb8f1",
   "metadata": {},
   "outputs": [],
   "source": [
    "import os\n",
    "\n",
    "class RouteParser:\n",
    "    \n",
    "    def __init__(self, map_, path: str):\n",
    "        self.path = path\n",
    "        self.map = map_\n",
    "        \n",
    "    def parse_file(self):\n",
    "        if not os.path.exists(self.path):\n",
    "            raise ValueError(\"Provided path doesn't exist in file directory\")\n",
    "        \n",
    "        root = ET.parse(self.path).getroot()\n",
    "        parsed_routes = {}\n",
    "        for route in root:\n",
    "            parsed_routes[route.attrib['id']] = {'town': route.attrib['town'], 'waypoints': []}\n",
    "            for wp in route:\n",
    "                if wp.tag == 'waypoint':\n",
    "                    parsed_routes[route.attrib['id']]['waypoints'].append(self.parse_locs(wp.attrib))\n",
    "        return parsed_routes\n",
    "        \n",
    "    \n",
    "    def parse_locs(self, wp_as_dict):\n",
    "        rotation = carla.Rotation(pitch=float(wp_as_dict['pitch']), yaw=float(wp_as_dict['yaw']), roll=float(wp_as_dict['roll']))\n",
    "        location = carla.Location(x=float(wp_as_dict['x']), y=float(wp_as_dict['y']), z=float(wp_as_dict['z']))\n",
    "        return location\n",
    "        "
   ]
  },
  {
   "cell_type": "code",
   "execution_count": 7,
   "id": "2fbb7720",
   "metadata": {
    "jupyter": {
     "source_hidden": true
    },
    "tags": []
   },
   "outputs": [],
   "source": [
    "class NPCClass:\n",
    "    def __init__(self):\n",
    "        logging.basicConfig(format='%(levelname)s: %(message)s', level=logging.INFO)\n",
    "        self.vehicles_list = []\n",
    "        self.walkers_list = []\n",
    "        self.all_id = []\n",
    "        self.client = carla.Client('127.0.0.1', 2000)\n",
    "        self.client.set_timeout(20.0)\n",
    "\n",
    "    def create_npcs(self, number_of_vehicles=150, number_of_walkers=70):\n",
    "        world = self.client.get_world()\n",
    "        blueprints = world.get_blueprint_library().filter('vehicle.*')\n",
    "        blueprints = [x for x in blueprints if not x.id.endswith('etron')]  # This guy has a wonky movement [physics broken?]\n",
    "        blueprintsWalkers = world.get_blueprint_library().filter('walker.pedestrian.*')\n",
    "\n",
    "        spawn_points = world.get_map().get_spawn_points()\n",
    "        number_of_spawn_points = len(spawn_points)\n",
    "\n",
    "        if number_of_vehicles < number_of_spawn_points:\n",
    "            random.shuffle(spawn_points)\n",
    "        elif number_of_vehicles > number_of_spawn_points:\n",
    "            msg = 'requested %d vehicles, but could only find %d spawn points'\n",
    "            logging.warning(msg, number_of_vehicles, number_of_spawn_points)\n",
    "            number_of_vehicles = number_of_spawn_points\n",
    "\n",
    "        # @todo cannot import these directly.\n",
    "        SpawnActor = carla.command.SpawnActor\n",
    "        SetAutopilot = carla.command.SetAutopilot\n",
    "        FutureActor = carla.command.FutureActor\n",
    "\n",
    "        # --------------\n",
    "        # Spawn vehicles\n",
    "        # --------------\n",
    "        batch = []\n",
    "        for n, transform in enumerate(spawn_points):\n",
    "            if n >= number_of_vehicles:\n",
    "                break\n",
    "            blueprint = random.choice(blueprints)\n",
    "            # Taking out bicycles and motorcycles, since the semantic/bb labeling for that is mixed with pedestrian\n",
    "            if int(blueprint.get_attribute('number_of_wheels')) > 2:\n",
    "                if blueprint.has_attribute('color'):\n",
    "                    color = random.choice(blueprint.get_attribute('color').recommended_values)\n",
    "                    blueprint.set_attribute('color', color)\n",
    "                if blueprint.has_attribute('driver_id'):\n",
    "                    driver_id = random.choice(blueprint.get_attribute('driver_id').recommended_values)\n",
    "                    blueprint.set_attribute('driver_id', driver_id)\n",
    "                blueprint.set_attribute('role_name', 'autopilot')\n",
    "                batch.append(SpawnActor(blueprint, transform).then(SetAutopilot(FutureActor, True)))\n",
    "\n",
    "        for response in self.client.apply_batch_sync(batch):\n",
    "            if response.error:\n",
    "                logging.error(response.error)\n",
    "            else:\n",
    "                self.vehicles_list.append(response.actor_id)\n",
    "\n",
    "        # -------------\n",
    "        # Spawn Walkers\n",
    "        # -------------\n",
    "        # 1. take all the random locations to spawn\n",
    "        spawn_points = []\n",
    "        for i in range(number_of_walkers):\n",
    "            spawn_point = carla.Transform()\n",
    "            loc = world.get_random_location_from_navigation()\n",
    "            if (loc != None):\n",
    "                spawn_point.location = loc\n",
    "                spawn_points.append(spawn_point)\n",
    "\n",
    "        # 2. we spawn the walker object\n",
    "        batch = []\n",
    "        for spawn_point in spawn_points:\n",
    "            walker_bp = random.choice(blueprintsWalkers)\n",
    "            # set as not invencible\n",
    "            if walker_bp.has_attribute('is_invincible'):\n",
    "                walker_bp.set_attribute('is_invincible', 'false')\n",
    "            batch.append(SpawnActor(walker_bp, spawn_point))\n",
    "        results = self.client.apply_batch_sync(batch, True)\n",
    "        for i in range(len(results)):\n",
    "            if results[i].error:\n",
    "                logging.error(results[i].error)\n",
    "            else:\n",
    "                self.walkers_list.append({\"id\": results[i].actor_id})\n",
    "\n",
    "        # 3. we spawn the walker controller\n",
    "        batch = []\n",
    "        walker_controller_bp = world.get_blueprint_library().find('controller.ai.walker')\n",
    "        for i in range(len(self.walkers_list)):\n",
    "            batch.append(SpawnActor(walker_controller_bp, carla.Transform(), self.walkers_list[i][\"id\"]))\n",
    "        results = self.client.apply_batch_sync(batch, True)\n",
    "        for i in range(len(results)):\n",
    "            if results[i].error:\n",
    "                logging.error(results[i].error)\n",
    "            else:\n",
    "                self.walkers_list[i][\"con\"] = results[i].actor_id\n",
    "        # 4. we put altogether the walkers and controllers id to get the objects from their id\n",
    "        for i in range(len(self.walkers_list)):\n",
    "            self.all_id.append(self.walkers_list[i][\"con\"])\n",
    "            self.all_id.append(self.walkers_list[i][\"id\"])\n",
    "        self.all_actors = world.get_actors(self.all_id)\n",
    "\n",
    "        # wait for a tick to ensure client receives the last transform of the walkers we have just created\n",
    "        world.tick()\n",
    "        world.wait_for_tick()\n",
    "\n",
    "        # 5. initialize each controller and set target to walk to (list is [controler, actor, controller, actor ...])\n",
    "        for i in range(0, len(self.all_id), 2):\n",
    "            # start walker\n",
    "            self.all_actors[i].start()\n",
    "            # set walk to random point\n",
    "            self.all_actors[i].go_to_location(world.get_random_location_from_navigation())\n",
    "            # random max speed\n",
    "            self.all_actors[i].set_max_speed(1 + random.random()/2)    # max speed between 1 and 2 (default is 1.4 m/s)\n",
    "        print('Spawned %d vehicles and %d walkers' % (len(self.vehicles_list), len(self.walkers_list)))\n",
    "        return self.vehicles_list, self.walkers_list\n",
    "\n",
    "    def remove_npcs(self):\n",
    "        print('Destroying %d NPC vehicles' % len(self.vehicles_list))\n",
    "        self.client.apply_batch([carla.command.DestroyActor(x) for x in self.vehicles_list])\n",
    "\n",
    "        # stop walker controllers (list is [controler, actor, controller, actor ...])\n",
    "        for i in range(0, len(self.all_id), 2):\n",
    "            self.all_actors[i].stop()\n",
    "\n",
    "        print('Destroying %d NPC walkers' % len(self.walkers_list))\n",
    "        self.client.apply_batch([carla.command.DestroyActor(x) for x in self.all_id])\n"
   ]
  },
  {
   "cell_type": "code",
   "execution_count": 18,
   "id": "7be2b508",
   "metadata": {
    "tags": []
   },
   "outputs": [],
   "source": [
    "def compute_distance(loc1, loc2):\n",
    "    dx = loc1.x - loc2.x\n",
    "    dy = loc1.y - loc2.y\n",
    "    return math.sqrt(dx*dx + dy*dy)\n",
    "\n",
    "\n",
    "def interpolate_trajectory(world, waypoints_trajectory, hop_resolution=1.0):\n",
    "    \"\"\"\n",
    "    Given some raw keypoints interpolate a full dense trajectory to be used by the user.\n",
    "    returns the full interpolated route both in GPS coordinates and also in its original form.\n",
    "    \n",
    "    Args:\n",
    "        - world: an reference to the CARLA world so we can use the planner\n",
    "        - waypoints_trajectory: the current coarse trajectory\n",
    "        - hop_resolution: is the resolution, how dense is the provided trajectory going to be made\n",
    "    \"\"\"\n",
    "    \n",
    "    dao = GlobalRoutePlannerDAO(world.get_map(), hop_resolution)\n",
    "    grp = GlobalRoutePlanner(dao)\n",
    "    grp.setup()\n",
    "    # Obtain route plan\n",
    "    route = []\n",
    "    for i in range(len(waypoints_trajectory) - 1):   # Goes until the one before the last.\n",
    "\n",
    "        waypoint = waypoints_trajectory[i]\n",
    "        waypoint_next = waypoints_trajectory[i + 1]\n",
    "        interpolated_trace = grp.trace_route(waypoint, waypoint_next)\n",
    "        \n",
    "        for wp_tuple in interpolated_trace:\n",
    "            route.append((wp_tuple[0], wp_tuple[1]))\n",
    "\n",
    "    return route\n",
    "\n"
   ]
  },
  {
   "cell_type": "code",
   "execution_count": 9,
   "id": "65409147",
   "metadata": {},
   "outputs": [],
   "source": [
    "parser = RouteParser(map_, 'routes_training.xml')\n",
    "routes = parser.parse_file()\n",
    "route = routes['1']"
   ]
  },
  {
   "cell_type": "code",
   "execution_count": 33,
   "id": "c094503c",
   "metadata": {
    "tags": []
   },
   "outputs": [
    {
     "data": {
      "text/plain": [
       "[<carla.libcarla.Location at 0x7feb80db1170>,\n",
       " <carla.libcarla.Location at 0x7feb80db11b0>,\n",
       " <carla.libcarla.Location at 0x7feb80db11f0>,\n",
       " <carla.libcarla.Location at 0x7feb80db1230>,\n",
       " <carla.libcarla.Location at 0x7feb80db1270>,\n",
       " <carla.libcarla.Location at 0x7feb80db12f0>,\n",
       " <carla.libcarla.Location at 0x7feb80db1330>,\n",
       " <carla.libcarla.Location at 0x7feb80db1370>,\n",
       " <carla.libcarla.Location at 0x7feb80db13b0>,\n",
       " <carla.libcarla.Location at 0x7feb80db12b0>,\n",
       " <carla.libcarla.Location at 0x7feb80db13f0>]"
      ]
     },
     "execution_count": 33,
     "metadata": {},
     "output_type": "execute_result"
    }
   ],
   "source": [
    "route['waypoints']"
   ]
  },
  {
   "cell_type": "markdown",
   "id": "349343de",
   "metadata": {},
   "source": [
    "### How to travel using a predefined route"
   ]
  },
  {
   "cell_type": "code",
   "execution_count": 11,
   "id": "9899632c",
   "metadata": {},
   "outputs": [
    {
     "name": "stdout",
     "output_type": "stream",
     "text": [
      "World Town01 loaded\n"
     ]
    }
   ],
   "source": [
    "# example of how to travel using a predefined route\n",
    "\n",
    "# 0. Some general settings\n",
    "hop_resolution = 1.0\n",
    "vehicles = 20\n",
    "walkers = 10\n",
    "\n",
    "\n",
    "# 1. Load world\n",
    "client.load_world(route['town'])\n",
    "world = client.get_world()\n",
    "map_ = world.get_map()\n",
    "print(f\"World {route['town']} loaded\")"
   ]
  },
  {
   "cell_type": "code",
   "execution_count": 12,
   "id": "bd5438f4",
   "metadata": {},
   "outputs": [
    {
     "name": "stderr",
     "output_type": "stream",
     "text": [
      "ERROR: Spawn failed because of collision at spawn position\n",
      "ERROR: Spawn failed because of collision at spawn position\n",
      "ERROR: Spawn failed because of collision at spawn position\n"
     ]
    },
    {
     "name": "stdout",
     "output_type": "stream",
     "text": [
      "Spawned 16 vehicles and 7 walkers\n"
     ]
    }
   ],
   "source": [
    "# 2.1 Interpolate waypoints \n",
    "world_route = interpolate_trajectory(world, route['waypoints'], hop_resolution=hop_resolution)\n",
    "\n",
    "# 2.2 Draw waypoints\n",
    "for i, t in enumerate(world_route):\n",
    "    world.debug.draw_string(t[0].transform.location, str(i), draw_shadow=False, color=carla.Color(r=255, g=0, b=0), life_time=30, persistent_lines=True)\n",
    "    \n",
    "# 2.3 Spawn some NPCs\n",
    "\n",
    "NPC = NPCClass()\n",
    "vehicles_list, _ = NPC.create_npcs(vehicles, walkers)"
   ]
  },
  {
   "cell_type": "code",
   "execution_count": 32,
   "id": "9c21b8a1",
   "metadata": {},
   "outputs": [],
   "source": [
    "\n",
    "closest_points = []\n",
    "start_wp = world_route[0][0]\n",
    "for p in map_.get_spawn_points():\n",
    "    distance = compute_distance(start_wp.transform.location, p.location) \n",
    "    if distance < 10:\n",
    "        closest_points.append((p, distance))\n",
    "\n",
    "sorted_closest_points = sorted(closest_points, key=lambda p: p[1])\n",
    "closest_points = [p[0] for p in sorted_closest_points]\n",
    "\n",
    "closest_spawnable_point = None\n",
    "for p in closest_points:\n",
    "    wp_p = map_.get_waypoint(p.location)\n",
    "    if wp_p.lane_id == start_wp.lane_id:\n",
    "        closest_spawnable_point = p\n",
    "\n",
    "vehicle_bp = blueprint_library.find('vehicle.tesla.model3')\n",
    "ego_vehicle = world.spawn_actor(vehicle_bp, p) "
   ]
  },
  {
   "cell_type": "code",
   "execution_count": 21,
   "id": "6b2e7117",
   "metadata": {},
   "outputs": [],
   "source": [
    "# 3.2 Setup behavior agent\n",
    "\n",
    "ego_agent = BehaviorAgent(ego_vehicle, behavior='cautious')\n",
    "ego_agent.set_predefined_route(world_route)"
   ]
  },
  {
   "cell_type": "code",
   "execution_count": 22,
   "id": "12653423",
   "metadata": {},
   "outputs": [
    {
     "name": "stdout",
     "output_type": "stream",
     "text": [
      "deque index out of range\n"
     ]
    },
    {
     "ename": "AttributeError",
     "evalue": "'NoneType' object has no attribute 'is_junction'",
     "output_type": "error",
     "traceback": [
      "\u001b[0;31m---------------------------------------------------------------------------\u001b[0m\n\u001b[0;31mAttributeError\u001b[0m                            Traceback (most recent call last)",
      "File \u001b[0;34m/home/rudy/miniconda3/envs/carla-data-collector/lib/python3.7/site-packages/IPython/core/interactiveshell.py\u001b[0m, in \u001b[0;32mrun_code\u001b[0m:\nLine \u001b[0;34m3437\u001b[0m:  exec(code_obj, \u001b[36mself\u001b[39;49;00m.user_global_ns, \u001b[36mself\u001b[39;49;00m.user_ns)\n",
      "In  \u001b[0;34m[22]\u001b[0m:\nLine \u001b[0;34m5\u001b[0m:     control = ego_agent.run_step()\n",
      "File \u001b[0;34m/home/rudy/Documents/carla-dataset-runner/PythonAPI/carla/agents/navigation/behavior_agent.py\u001b[0m, in \u001b[0;32mrun_step\u001b[0m:\nLine \u001b[0;34m454\u001b[0m:   \u001b[34melif\u001b[39;49;00m \u001b[36mself\u001b[39;49;00m.incoming_waypoint.is_junction \u001b[35mand\u001b[39;49;00m (\n",
      "\u001b[0;31mAttributeError\u001b[0m: 'NoneType' object has no attribute 'is_junction'\n\u001b[0;31m---------------------------------------------------------------------------\u001b[0m"
     ]
    }
   ],
   "source": [
    "# 4. Run!\n",
    "\n",
    "while True:\n",
    "    ego_agent.update_information()\n",
    "    control = ego_agent.run_step()\n",
    "    ego_vehicle.apply_control(control)"
   ]
  },
  {
   "cell_type": "code",
   "execution_count": null,
   "id": "5c149850",
   "metadata": {},
   "outputs": [],
   "source": []
  }
 ],
 "metadata": {
  "kernelspec": {
   "display_name": "Python 3.7 (XPython)",
   "language": "python",
   "name": "xpython"
  },
  "language_info": {
   "file_extension": ".py",
   "mimetype": "text/x-python",
   "name": "python",
   "version": "3.7.10"
  }
 },
 "nbformat": 4,
 "nbformat_minor": 5
}
