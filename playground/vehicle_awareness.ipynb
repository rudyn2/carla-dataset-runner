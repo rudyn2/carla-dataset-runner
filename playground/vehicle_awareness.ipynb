{
 "cells": [
  {
   "cell_type": "code",
   "execution_count": 3,
   "id": "466b9290",
   "metadata": {},
   "outputs": [],
   "source": [
    "import os\n",
    "import sys\n",
    "initial_path = set(sys.path)\n",
    "CARLA_EGG_PATH = \"/home/rudy/Documents/PythonAPI/carla/dist/carla-0.9.11-py3.7-linux-x86_64.egg\"\n",
    "sys.path.append(CARLA_EGG_PATH)\n",
    "\n",
    "# ADD \n",
    "try:\n",
    "    sys.path.append(os.path.abspath('.') + '/PythonAPI/carla')\n",
    "except IndexError:\n",
    "    pass\n",
    "\n",
    "new_paths = set(sys.path) - initial_path\n",
    "for path in new_paths:\n",
    "    print(f\"Added: {path} to the Path\")\n",
    "\n",
    "import carla"
   ]
  },
  {
   "cell_type": "code",
   "execution_count": 179,
   "id": "c6b89feb",
   "metadata": {},
   "outputs": [],
   "source": [
    "import random\n",
    "import math"
   ]
  },
  {
   "cell_type": "code",
   "execution_count": 325,
   "id": "f828bc83",
   "metadata": {},
   "outputs": [],
   "source": [
    "client = carla.Client('localhost', 2000)\n",
    "client.set_timeout(20.0)\n",
    "client.load_world('Town02')\n",
    "world = client.get_world()\n",
    "map_ = world.get_map()\n",
    "blueprint_library = world.get_blueprint_library()\n",
    "vehicle_bp = random.choice(blueprint_library.filter('vehicle.bmw.grandtourer'))"
   ]
  },
  {
   "cell_type": "code",
   "execution_count": 326,
   "id": "10c99380",
   "metadata": {},
   "outputs": [],
   "source": [
    "def draw_loc(l, label='x'):\n",
    "    world.debug.draw_string(l, label, draw_shadow=False,\n",
    "                        color=carla.Color(r=255, g=0, b=0), life_time=30.0,\n",
    "                        persistent_lines=True)"
   ]
  },
  {
   "cell_type": "code",
   "execution_count": 330,
   "id": "d94b0778",
   "metadata": {},
   "outputs": [],
   "source": [
    "t = map_.get_spawn_points()[0]\n",
    "t.location.x += -0.0\n",
    "t.rotation.yaw += 0"
   ]
  },
  {
   "cell_type": "code",
   "execution_count": 331,
   "id": "c723f928",
   "metadata": {},
   "outputs": [],
   "source": [
    "# spawn\n",
    "actor = world.spawn_actor(vehicle_bp, t)"
   ]
  },
  {
   "cell_type": "code",
   "execution_count": 329,
   "id": "6b6f0e63",
   "metadata": {},
   "outputs": [
    {
     "data": {
      "text/plain": [
       "False"
      ]
     },
     "execution_count": 329,
     "metadata": {},
     "output_type": "execute_result"
    }
   ],
   "source": [
    "# destroy\n",
    "actor.destroy()"
   ]
  },
  {
   "cell_type": "code",
   "execution_count": 1,
   "id": "b1b8a5c9",
   "metadata": {},
   "outputs": [
    {
     "ename": "NameError",
     "evalue": "name 'actor' is not defined",
     "output_type": "error",
     "traceback": [
      "\u001b[0;31m---------------------------------------------------------------------------\u001b[0m\n\u001b[0;31mNameError\u001b[0m                                 Traceback (most recent call last)",
      "File \u001b[0;34m/home/rudy/miniconda3/envs/carla-data-collector/lib/python3.7/site-packages/IPython/core/interactiveshell.py\u001b[0m, in \u001b[0;32mrun_code\u001b[0m:\nLine \u001b[0;34m3437\u001b[0m:  exec(code_obj, \u001b[36mself\u001b[39;49;00m.user_global_ns, \u001b[36mself\u001b[39;49;00m.user_ns)\n",
      "In  \u001b[0;34m[1]\u001b[0m:\nLine \u001b[0;34m2\u001b[0m:     transform = actor.get_transform()\n",
      "\u001b[0;31mNameError\u001b[0m: name 'actor' is not defined\n\u001b[0;31m---------------------------------------------------------------------------\u001b[0m"
     ]
    }
   ],
   "source": [
    "# draw Box\n",
    "transform = actor.get_transform()\n",
    "bounding_box = actor.bounding_box\n",
    "bounding_box.location += transform.location\n",
    "world.debug.draw_box(bounding_box, transform.rotation)"
   ]
  },
  {
   "cell_type": "code",
   "execution_count": 337,
   "id": "fb6a651b",
   "metadata": {},
   "outputs": [],
   "source": [
    "import numpy as np\n",
    "\n",
    "def vec3d_dot(v1, v2):\n",
    "    return v1.x * v2.x + v1.y * v2.y + v1.z * v2.z\n",
    "\n",
    "def vec3d_mag(v):\n",
    "    return np.sqrt(vec3d_dot(v, v))\n",
    "\n",
    "def vec3d_angle(v1, v2, deg=False):\n",
    "    cos_theta = vec3d_dot(v1, v2) / (vec3d_mag(v1) * vec3d_mag(v2))\n",
    "    if deg:\n",
    "        return np.rad2deg(np.arccos(cos_theta))\n",
    "    return np.arccos(cos_theta)\n",
    "\n",
    "def get_vehicle_orientation(world_map, vehicle):\n",
    "    \"\"\"\n",
    "    Returns the vehicle's orientation w.r.t to lane's tangent\n",
    "    \"\"\"\n",
    "    \n",
    "    # get lane tangent vector\n",
    "    a1 = world_map.get_waypoint(vehicle.get_location(), project_to_road=True)\n",
    "    b1 = a1.next(2.0)[0]\n",
    "    vector_lane = b1.transform.location - a1.transform.location\n",
    "    \n",
    "    # get vehicle vector\n",
    "    vertices = vehicle.bounding_box.get_world_vertices(vehicle.get_transform())\n",
    "    a2 = vertices[0]\n",
    "    b2 = vertices[4]\n",
    "    vector_vehicle = b2 - a2\n",
    "    \n",
    "    return vec3d_angle(vector_vehicle, vector_lane, deg=True)\n",
    "\n",
    "def get_vehicle_position(world_map, vehicle):\n",
    "    \"\"\"\n",
    "    Returns the distance of the vehicle to lane's center\n",
    "    \"\"\"\n",
    "    vehicle_center = vehicle.get_transform()\n",
    "    lane_center = world_map.get_waypoint(vehicle.get_location(), project_to_road=True)\n",
    "    d_x = vehicle_center.location.x - lane_center.transform.location.x\n",
    "    d_y = vehicle_center.location.y - lane_center.transform.location.y\n",
    "    d = np.sqrt(d_x * d_x + d_y * d_y)\n",
    "    return d\n",
    "    \n",
    "    "
   ]
  },
  {
   "cell_type": "code",
   "execution_count": 338,
   "id": "7b514d75",
   "metadata": {},
   "outputs": [
    {
     "name": "stdout",
     "output_type": "stream",
     "text": [
      "0.11462126397980087\n",
      "0.1288645516281961\n"
     ]
    }
   ],
   "source": [
    "print(get_vehicle_position(map_, actor))\n",
    "print(get_vehicle_orientation(map_, actor))"
   ]
  },
  {
   "cell_type": "code",
   "execution_count": null,
   "id": "5c29cf57",
   "metadata": {},
   "outputs": [],
   "source": []
  }
 ],
 "metadata": {
  "kernelspec": {
   "display_name": "Python 3.7 (XPython)",
   "language": "python",
   "name": "xpython"
  },
  "language_info": {
   "file_extension": ".py",
   "mimetype": "text/x-python",
   "name": "python",
   "version": "3.7.10"
  }
 },
 "nbformat": 4,
 "nbformat_minor": 5
}
